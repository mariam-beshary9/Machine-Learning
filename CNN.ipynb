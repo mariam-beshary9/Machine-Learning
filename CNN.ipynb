{
  "nbformat": 4,
  "nbformat_minor": 0,
  "metadata": {
    "colab": {
      "name": "CNN.ipynb",
      "provenance": [],
      "collapsed_sections": []
    },
    "kernelspec": {
      "name": "python3",
      "display_name": "Python 3"
    }
  },
  "cells": [
    {
      "cell_type": "markdown",
      "metadata": {
        "id": "wimF2X6KLgOk"
      },
      "source": [
        "# Building the Model"
      ]
    },
    {
      "cell_type": "markdown",
      "metadata": {
        "id": "MTlRwOxVLqxn"
      },
      "source": [
        "## Importing Necessary Libraries"
      ]
    },
    {
      "cell_type": "code",
      "metadata": {
        "id": "vFsoBQYUlhr-"
      },
      "source": [
        "import numpy as np\r\n",
        "from tensorflow import keras\r\n",
        "from tensorflow.keras import layers\r\n",
        "from matplotlib import pyplot as plt\r\n",
        "from sklearn.model_selection import KFold"
      ],
      "execution_count": 1,
      "outputs": []
    },
    {
      "cell_type": "markdown",
      "metadata": {
        "id": "P4B4yO4wL9t7"
      },
      "source": [
        "## Implementing Functions to Prepare Data "
      ]
    },
    {
      "cell_type": "code",
      "metadata": {
        "id": "Zj6DlWppncCk"
      },
      "source": [
        "def normalize(image):\r\n",
        "\timage = image.astype('float32')\r\n",
        "\timage /= 255.0\r\n",
        "\treturn image\r\n",
        "\r\n",
        "def prepareData():\r\n",
        "  (trainInput, trainOutput), (testInput, testOutput) = keras.datasets.mnist.load_data()\r\n",
        "  trainInput = np.expand_dims(trainInput, -1)\r\n",
        "  testInput = np.expand_dims(testInput, -1)\r\n",
        "  return normalize(trainInput), keras.utils.to_categorical(trainOutput,10), normalize(testInput), keras.utils.to_categorical(testOutput,10)\r\n"
      ],
      "execution_count": 2,
      "outputs": []
    },
    {
      "cell_type": "markdown",
      "metadata": {
        "id": "7wJYKVntMKYN"
      },
      "source": [
        "## Defining 5 Different Models"
      ]
    },
    {
      "cell_type": "code",
      "metadata": {
        "id": "mx6GYkZJMKpf"
      },
      "source": [
        "\r\n",
        "\r\n",
        "def buildModel1():\r\n",
        "  model = keras.Sequential(\r\n",
        "      [\r\n",
        "        keras.Input(shape=(28, 28, 1)),\r\n",
        "        layers.Conv2D(32, kernel_size=(3, 3), activation=\"relu\"),\r\n",
        "        layers.MaxPooling2D(pool_size=(2, 2)),\r\n",
        "        layers.Conv2D(64, kernel_size=(3, 3), activation=\"relu\"),\r\n",
        "        layers.MaxPooling2D(pool_size=(2, 2)),\r\n",
        "        layers.Flatten(),\r\n",
        "        layers.Dropout(0.5),\r\n",
        "        layers.Dense(10, activation=\"softmax\"),\r\n",
        "    ]\r\n",
        "  )\r\n",
        "  model.compile(loss=\"categorical_crossentropy\", optimizer=\"adam\", metrics=[\"accuracy\"])\r\n",
        "  return model\r\n",
        "\r\n",
        "def buildModel2():\r\n",
        "  model = keras.Sequential(\r\n",
        "      [\r\n",
        "        keras.Input(shape=(28, 28, 1)),\r\n",
        "        layers.Conv2D(16, kernel_size=(3, 3), activation=\"relu\"),\r\n",
        "        layers.MaxPooling2D(pool_size=(2, 2)),\r\n",
        "        layers.Conv2D(32, kernel_size=(3, 3), activation=\"relu\"),\r\n",
        "        layers.MaxPooling2D(pool_size=(2, 2)),\r\n",
        "        layers.Flatten(),\r\n",
        "        layers.Dropout(0.3),\r\n",
        "        layers.Dense(10, activation=\"softmax\"),\r\n",
        "    ]\r\n",
        "   \r\n",
        "  ) \r\n",
        "  model.compile(loss=\"categorical_crossentropy\", optimizer=\"adam\", metrics=[\"accuracy\"])\r\n",
        "  return model\r\n",
        "\r\n",
        "def buildModel3():\r\n",
        "  model = keras.Sequential(\r\n",
        "      [\r\n",
        "        keras.Input(shape=(28, 28, 1)),\r\n",
        "        layers.Conv2D(16, kernel_size=(3, 3), activation=\"relu\"),\r\n",
        "        layers.MaxPooling2D(pool_size=(2, 2)),\r\n",
        "        layers.Flatten(),\r\n",
        "        layers.Dropout(0.2),\r\n",
        "        layers.Dense(10, activation=\"softmax\"),\r\n",
        "    ]\r\n",
        "  )\r\n",
        "  model.compile(loss=\"categorical_crossentropy\", optimizer=\"adam\", metrics=[\"accuracy\"])\r\n",
        "  return model\r\n",
        "\r\n",
        "def buildModel4():\r\n",
        "  model = keras.Sequential(\r\n",
        "      [\r\n",
        "        keras.Input(shape=(28, 28, 1)),\r\n",
        "        layers.Conv2D(16, kernel_size=(3, 3), activation=\"relu\"),\r\n",
        "        layers.MaxPooling2D(pool_size=(2, 2)),\r\n",
        "        layers.Conv2D(32, kernel_size=(3, 3), activation=\"relu\"),\r\n",
        "        layers.MaxPooling2D(pool_size=(2, 2)),\r\n",
        "        layers.Conv2D(46, kernel_size=(3, 3), activation=\"relu\"),\r\n",
        "        layers.MaxPooling2D(pool_size=(2, 2)),\r\n",
        "        layers.Flatten(),\r\n",
        "        layers.Dropout(0.1),\r\n",
        "        layers.Dense(10, activation=\"softmax\"),\r\n",
        "    ]\r\n",
        "  )\r\n",
        "  model.compile(loss=\"categorical_crossentropy\", optimizer=\"adam\", metrics=[\"accuracy\"])\r\n",
        "  return model\r\n",
        "\r\n",
        "def buildModel5():\r\n",
        "  model = keras.Sequential(\r\n",
        "      [\r\n",
        "        keras.Input(shape=(28, 28, 1)),\r\n",
        "        layers.Conv2D(46, kernel_size=(3, 3), activation=\"relu\"),\r\n",
        "        layers.MaxPooling2D(pool_size=(2, 2)),\r\n",
        "        layers.Flatten(),\r\n",
        "        layers.Dropout(0.1),\r\n",
        "        layers.Dense(10, activation=\"softmax\"),\r\n",
        "    ]\r\n",
        "  )\r\n",
        "  model.compile(loss=\"categorical_crossentropy\", optimizer=\"adam\", metrics=[\"accuracy\"])\r\n",
        "  return model\r\n",
        " "
      ],
      "execution_count": 3,
      "outputs": []
    },
    {
      "cell_type": "code",
      "metadata": {
        "id": "dYp_lntx_RFg"
      },
      "source": [
        "def crossValidate(trainInput,trainOutput,Model):\r\n",
        "\r\n",
        "    kfold = KFold(3, shuffle=True, random_state=1)\r\n",
        "    num = 0\r\n",
        "    accuracy = 0\r\n",
        "    for train_index, test_index in kfold.split(trainInput):\r\n",
        "      num+=1\r\n",
        "      print(\"For kfold num:\",num)\r\n",
        "\r\n",
        "      model = Model\r\n",
        "      pureTrainInput, pureTrainOutput, validateInput, validateOutput = trainInput[train_index], trainOutput[train_index], trainInput[test_index], trainOutput[test_index]\r\n",
        "      \r\n",
        "      model.fit(pureTrainInput, pureTrainOutput, epochs=10, batch_size=265, validation_data=(validateInput, validateOutput))\r\n",
        "      _,acc=model.evaluate(validateInput, validateOutput, verbose=0)\r\n",
        "      accuracy = acc\r\n",
        "      \r\n",
        "    return accuracy\r\n",
        "      \r\n",
        "\r\n",
        "\r\n"
      ],
      "execution_count": 19,
      "outputs": []
    },
    {
      "cell_type": "markdown",
      "metadata": {
        "id": "upXwblpXOIF3"
      },
      "source": [
        "# Training The Models"
      ]
    },
    {
      "cell_type": "markdown",
      "metadata": {
        "id": "4nHbI6x7OL68"
      },
      "source": [
        "Preparing Data"
      ]
    },
    {
      "cell_type": "code",
      "metadata": {
        "id": "74I6mMEuOMM-"
      },
      "source": [
        "trainInput, trainOutput, testInput, testOutput = prepareData()"
      ],
      "execution_count": 5,
      "outputs": []
    },
    {
      "cell_type": "markdown",
      "metadata": {
        "id": "xb_wxfdhNCnN"
      },
      "source": [
        "## The First Model\r\n",
        "\r\n"
      ]
    },
    {
      "cell_type": "code",
      "metadata": {
        "colab": {
          "base_uri": "https://localhost:8080/"
        },
        "id": "JIaoP9n9NXFx",
        "outputId": "0b38abaf-eb42-40ff-d595-e3866d93f5b4"
      },
      "source": [
        "model1 = buildModel1()\r\n",
        "accuracy1= crossValidate(trainInput,trainOutput,model1)\r\n",
        "print(\"Train Accuracy= \",accuracy1 )"
      ],
      "execution_count": 21,
      "outputs": [
        {
          "output_type": "stream",
          "text": [
            "For kfold num: 1\n",
            "Epoch 1/10\n",
            "151/151 [==============================] - 31s 199ms/step - loss: 1.1519 - accuracy: 0.6411 - val_loss: 0.1778 - val_accuracy: 0.9497\n",
            "Epoch 2/10\n",
            "151/151 [==============================] - 30s 200ms/step - loss: 0.1941 - accuracy: 0.9408 - val_loss: 0.1168 - val_accuracy: 0.9658\n",
            "Epoch 3/10\n",
            "151/151 [==============================] - 30s 198ms/step - loss: 0.1341 - accuracy: 0.9594 - val_loss: 0.0888 - val_accuracy: 0.9740\n",
            "Epoch 4/10\n",
            "151/151 [==============================] - 30s 198ms/step - loss: 0.1032 - accuracy: 0.9684 - val_loss: 0.0762 - val_accuracy: 0.9786\n",
            "Epoch 5/10\n",
            "151/151 [==============================] - 30s 199ms/step - loss: 0.0822 - accuracy: 0.9750 - val_loss: 0.0691 - val_accuracy: 0.9804\n",
            "Epoch 6/10\n",
            "151/151 [==============================] - 30s 197ms/step - loss: 0.0765 - accuracy: 0.9763 - val_loss: 0.0651 - val_accuracy: 0.9807\n",
            "Epoch 7/10\n",
            "151/151 [==============================] - 30s 198ms/step - loss: 0.0652 - accuracy: 0.9801 - val_loss: 0.0583 - val_accuracy: 0.9830\n",
            "Epoch 8/10\n",
            "151/151 [==============================] - 30s 197ms/step - loss: 0.0624 - accuracy: 0.9806 - val_loss: 0.0568 - val_accuracy: 0.9840\n",
            "Epoch 9/10\n",
            "151/151 [==============================] - 30s 197ms/step - loss: 0.0603 - accuracy: 0.9805 - val_loss: 0.0537 - val_accuracy: 0.9840\n",
            "Epoch 10/10\n",
            "151/151 [==============================] - 30s 197ms/step - loss: 0.0529 - accuracy: 0.9829 - val_loss: 0.0557 - val_accuracy: 0.9836\n",
            "For kfold num: 2\n",
            "Epoch 1/10\n",
            "151/151 [==============================] - 30s 197ms/step - loss: 0.0617 - accuracy: 0.9813 - val_loss: 0.0331 - val_accuracy: 0.9897\n",
            "Epoch 2/10\n",
            "151/151 [==============================] - 29s 195ms/step - loss: 0.0553 - accuracy: 0.9831 - val_loss: 0.0337 - val_accuracy: 0.9902\n",
            "Epoch 3/10\n",
            "151/151 [==============================] - 29s 194ms/step - loss: 0.0524 - accuracy: 0.9842 - val_loss: 0.0353 - val_accuracy: 0.9886\n",
            "Epoch 4/10\n",
            "151/151 [==============================] - 29s 194ms/step - loss: 0.0498 - accuracy: 0.9850 - val_loss: 0.0347 - val_accuracy: 0.9893\n",
            "Epoch 5/10\n",
            "151/151 [==============================] - 29s 194ms/step - loss: 0.0458 - accuracy: 0.9858 - val_loss: 0.0321 - val_accuracy: 0.9897\n",
            "Epoch 6/10\n",
            "151/151 [==============================] - 29s 194ms/step - loss: 0.0440 - accuracy: 0.9872 - val_loss: 0.0329 - val_accuracy: 0.9895\n",
            "Epoch 7/10\n",
            "151/151 [==============================] - 29s 194ms/step - loss: 0.0423 - accuracy: 0.9870 - val_loss: 0.0329 - val_accuracy: 0.9895\n",
            "Epoch 8/10\n",
            "151/151 [==============================] - 29s 194ms/step - loss: 0.0414 - accuracy: 0.9867 - val_loss: 0.0315 - val_accuracy: 0.9900\n",
            "Epoch 9/10\n",
            "151/151 [==============================] - 29s 195ms/step - loss: 0.0380 - accuracy: 0.9883 - val_loss: 0.0349 - val_accuracy: 0.9890\n",
            "Epoch 10/10\n",
            "151/151 [==============================] - 29s 193ms/step - loss: 0.0388 - accuracy: 0.9879 - val_loss: 0.0326 - val_accuracy: 0.9893\n",
            "For kfold num: 3\n",
            "Epoch 1/10\n",
            "151/151 [==============================] - 30s 196ms/step - loss: 0.0459 - accuracy: 0.9863 - val_loss: 0.0200 - val_accuracy: 0.9936\n",
            "Epoch 2/10\n",
            "151/151 [==============================] - 29s 195ms/step - loss: 0.0418 - accuracy: 0.9875 - val_loss: 0.0205 - val_accuracy: 0.9936\n",
            "Epoch 3/10\n",
            "151/151 [==============================] - 30s 197ms/step - loss: 0.0382 - accuracy: 0.9880 - val_loss: 0.0217 - val_accuracy: 0.9926\n",
            "Epoch 4/10\n",
            "151/151 [==============================] - 29s 195ms/step - loss: 0.0381 - accuracy: 0.9877 - val_loss: 0.0206 - val_accuracy: 0.9934\n",
            "Epoch 5/10\n",
            "151/151 [==============================] - 29s 195ms/step - loss: 0.0378 - accuracy: 0.9876 - val_loss: 0.0224 - val_accuracy: 0.9928\n",
            "Epoch 6/10\n",
            "151/151 [==============================] - 29s 195ms/step - loss: 0.0341 - accuracy: 0.9892 - val_loss: 0.0200 - val_accuracy: 0.9939\n",
            "Epoch 7/10\n",
            "151/151 [==============================] - 30s 196ms/step - loss: 0.0338 - accuracy: 0.9890 - val_loss: 0.0207 - val_accuracy: 0.9934\n",
            "Epoch 8/10\n",
            "151/151 [==============================] - 29s 195ms/step - loss: 0.0329 - accuracy: 0.9894 - val_loss: 0.0231 - val_accuracy: 0.9926\n",
            "Epoch 9/10\n",
            "151/151 [==============================] - 30s 197ms/step - loss: 0.0317 - accuracy: 0.9895 - val_loss: 0.0245 - val_accuracy: 0.9923\n",
            "Epoch 10/10\n",
            "151/151 [==============================] - 30s 196ms/step - loss: 0.0307 - accuracy: 0.9901 - val_loss: 0.0217 - val_accuracy: 0.9930\n",
            "Train Accuracy=  0.9930499792098999\n"
          ],
          "name": "stdout"
        }
      ]
    },
    {
      "cell_type": "markdown",
      "metadata": {
        "id": "iJgmTQoSNbsD"
      },
      "source": [
        "## The Second Model"
      ]
    },
    {
      "cell_type": "code",
      "metadata": {
        "colab": {
          "base_uri": "https://localhost:8080/"
        },
        "id": "q4qiNx0CNbCY",
        "outputId": "a8ec20f4-8c5c-46fb-c727-f13f6a840c0e"
      },
      "source": [
        "model2 = buildModel2()\r\n",
        "accuracy2= crossValidate(trainInput,trainOutput,model2)\r\n",
        "print(\"Train Accuracy= \",accuracy2 )"
      ],
      "execution_count": 7,
      "outputs": [
        {
          "output_type": "stream",
          "text": [
            "For kfold num: 1\n",
            "Epoch 1/10\n",
            "151/151 [==============================] - 17s 111ms/step - loss: 1.3640 - accuracy: 0.5720 - val_loss: 0.2281 - val_accuracy: 0.9345\n",
            "Epoch 2/10\n",
            "151/151 [==============================] - 17s 110ms/step - loss: 0.2396 - accuracy: 0.9268 - val_loss: 0.1394 - val_accuracy: 0.9589\n",
            "Epoch 3/10\n",
            "151/151 [==============================] - 17s 111ms/step - loss: 0.1612 - accuracy: 0.9512 - val_loss: 0.1101 - val_accuracy: 0.9694\n",
            "Epoch 4/10\n",
            "151/151 [==============================] - 17s 110ms/step - loss: 0.1252 - accuracy: 0.9623 - val_loss: 0.0913 - val_accuracy: 0.9737\n",
            "Epoch 5/10\n",
            "151/151 [==============================] - 17s 110ms/step - loss: 0.1028 - accuracy: 0.9674 - val_loss: 0.0805 - val_accuracy: 0.9768\n",
            "Epoch 6/10\n",
            "151/151 [==============================] - 17s 112ms/step - loss: 0.0955 - accuracy: 0.9703 - val_loss: 0.0761 - val_accuracy: 0.9775\n",
            "Epoch 7/10\n",
            "151/151 [==============================] - 17s 109ms/step - loss: 0.0825 - accuracy: 0.9739 - val_loss: 0.0712 - val_accuracy: 0.9791\n",
            "Epoch 8/10\n",
            "151/151 [==============================] - 16s 109ms/step - loss: 0.0760 - accuracy: 0.9772 - val_loss: 0.0635 - val_accuracy: 0.9806\n",
            "Epoch 9/10\n",
            "151/151 [==============================] - 16s 109ms/step - loss: 0.0676 - accuracy: 0.9786 - val_loss: 0.0603 - val_accuracy: 0.9821\n",
            "Epoch 10/10\n",
            "151/151 [==============================] - 16s 109ms/step - loss: 0.0597 - accuracy: 0.9817 - val_loss: 0.0588 - val_accuracy: 0.9821\n",
            "For kfold num: 2\n",
            "Epoch 1/10\n",
            "151/151 [==============================] - 17s 110ms/step - loss: 0.0689 - accuracy: 0.9789 - val_loss: 0.0419 - val_accuracy: 0.9872\n",
            "Epoch 2/10\n",
            "151/151 [==============================] - 16s 109ms/step - loss: 0.0636 - accuracy: 0.9804 - val_loss: 0.0398 - val_accuracy: 0.9879\n",
            "Epoch 3/10\n",
            "151/151 [==============================] - 16s 109ms/step - loss: 0.0584 - accuracy: 0.9824 - val_loss: 0.0410 - val_accuracy: 0.9877\n",
            "Epoch 4/10\n",
            "151/151 [==============================] - 16s 109ms/step - loss: 0.0544 - accuracy: 0.9833 - val_loss: 0.0396 - val_accuracy: 0.9877\n",
            "Epoch 5/10\n",
            "151/151 [==============================] - 16s 109ms/step - loss: 0.0509 - accuracy: 0.9843 - val_loss: 0.0401 - val_accuracy: 0.9875\n",
            "Epoch 6/10\n",
            "151/151 [==============================] - 17s 109ms/step - loss: 0.0498 - accuracy: 0.9844 - val_loss: 0.0387 - val_accuracy: 0.9876\n",
            "Epoch 7/10\n",
            "151/151 [==============================] - 16s 105ms/step - loss: 0.0486 - accuracy: 0.9856 - val_loss: 0.0379 - val_accuracy: 0.9885\n",
            "Epoch 8/10\n",
            "151/151 [==============================] - 16s 105ms/step - loss: 0.0434 - accuracy: 0.9864 - val_loss: 0.0378 - val_accuracy: 0.9887\n",
            "Epoch 9/10\n",
            "151/151 [==============================] - 16s 106ms/step - loss: 0.0451 - accuracy: 0.9856 - val_loss: 0.0356 - val_accuracy: 0.9887\n",
            "Epoch 10/10\n",
            "151/151 [==============================] - 16s 106ms/step - loss: 0.0433 - accuracy: 0.9865 - val_loss: 0.0369 - val_accuracy: 0.9886\n",
            "For kfold num: 3\n",
            "Epoch 1/10\n",
            "151/151 [==============================] - 16s 109ms/step - loss: 0.0485 - accuracy: 0.9856 - val_loss: 0.0236 - val_accuracy: 0.9930\n",
            "Epoch 2/10\n",
            "151/151 [==============================] - 17s 110ms/step - loss: 0.0449 - accuracy: 0.9860 - val_loss: 0.0238 - val_accuracy: 0.9934\n",
            "Epoch 3/10\n",
            "151/151 [==============================] - 17s 110ms/step - loss: 0.0414 - accuracy: 0.9870 - val_loss: 0.0245 - val_accuracy: 0.9926\n",
            "Epoch 4/10\n",
            "151/151 [==============================] - 16s 109ms/step - loss: 0.0428 - accuracy: 0.9862 - val_loss: 0.0250 - val_accuracy: 0.9923\n",
            "Epoch 5/10\n",
            "151/151 [==============================] - 16s 109ms/step - loss: 0.0412 - accuracy: 0.9870 - val_loss: 0.0264 - val_accuracy: 0.9925\n",
            "Epoch 6/10\n",
            "151/151 [==============================] - 17s 110ms/step - loss: 0.0379 - accuracy: 0.9876 - val_loss: 0.0251 - val_accuracy: 0.9922\n",
            "Epoch 7/10\n",
            "151/151 [==============================] - 17s 110ms/step - loss: 0.0355 - accuracy: 0.9884 - val_loss: 0.0261 - val_accuracy: 0.9916\n",
            "Epoch 8/10\n",
            "151/151 [==============================] - 17s 110ms/step - loss: 0.0374 - accuracy: 0.9876 - val_loss: 0.0274 - val_accuracy: 0.9915\n",
            "Epoch 9/10\n",
            "151/151 [==============================] - 16s 109ms/step - loss: 0.0353 - accuracy: 0.9887 - val_loss: 0.0268 - val_accuracy: 0.9912\n",
            "Epoch 10/10\n",
            "151/151 [==============================] - 16s 109ms/step - loss: 0.0336 - accuracy: 0.9887 - val_loss: 0.0266 - val_accuracy: 0.9916\n",
            "Train Accuracy=  0.9915500283241272\n"
          ],
          "name": "stdout"
        }
      ]
    },
    {
      "cell_type": "markdown",
      "metadata": {
        "id": "XMBccq0WNn_d"
      },
      "source": [
        "## The Third Model"
      ]
    },
    {
      "cell_type": "code",
      "metadata": {
        "colab": {
          "base_uri": "https://localhost:8080/"
        },
        "id": "vzGSLWnFzRfM",
        "outputId": "bd6451cd-dc9f-4ecf-b486-a4257e6ca6c0"
      },
      "source": [
        "model3 = buildModel3()\r\n",
        "accuracy3= crossValidate(trainInput,trainOutput,model3)\r\n",
        "print(\"Train Accuracy= \",accuracy3 )"
      ],
      "execution_count": 8,
      "outputs": [
        {
          "output_type": "stream",
          "text": [
            "For kfold num: 1\n",
            "Epoch 1/10\n",
            "151/151 [==============================] - 12s 77ms/step - loss: 1.2373 - accuracy: 0.6866 - val_loss: 0.3207 - val_accuracy: 0.9079\n",
            "Epoch 2/10\n",
            "151/151 [==============================] - 11s 74ms/step - loss: 0.3039 - accuracy: 0.9121 - val_loss: 0.2405 - val_accuracy: 0.9305\n",
            "Epoch 3/10\n",
            "151/151 [==============================] - 11s 75ms/step - loss: 0.2259 - accuracy: 0.9342 - val_loss: 0.1936 - val_accuracy: 0.9452\n",
            "Epoch 4/10\n",
            "151/151 [==============================] - 12s 78ms/step - loss: 0.1813 - accuracy: 0.9472 - val_loss: 0.1609 - val_accuracy: 0.9559\n",
            "Epoch 5/10\n",
            "151/151 [==============================] - 12s 77ms/step - loss: 0.1509 - accuracy: 0.9578 - val_loss: 0.1406 - val_accuracy: 0.9600\n",
            "Epoch 6/10\n",
            "151/151 [==============================] - 11s 75ms/step - loss: 0.1309 - accuracy: 0.9638 - val_loss: 0.1243 - val_accuracy: 0.9643\n",
            "Epoch 7/10\n",
            "151/151 [==============================] - 11s 76ms/step - loss: 0.1172 - accuracy: 0.9665 - val_loss: 0.1101 - val_accuracy: 0.9693\n",
            "Epoch 8/10\n",
            "151/151 [==============================] - 11s 75ms/step - loss: 0.1103 - accuracy: 0.9674 - val_loss: 0.1038 - val_accuracy: 0.9710\n",
            "Epoch 9/10\n",
            "151/151 [==============================] - 11s 75ms/step - loss: 0.0983 - accuracy: 0.9721 - val_loss: 0.1008 - val_accuracy: 0.9712\n",
            "Epoch 10/10\n",
            "151/151 [==============================] - 11s 74ms/step - loss: 0.0905 - accuracy: 0.9744 - val_loss: 0.0931 - val_accuracy: 0.9732\n",
            "For kfold num: 2\n",
            "Epoch 1/10\n",
            "151/151 [==============================] - 11s 76ms/step - loss: 0.0954 - accuracy: 0.9719 - val_loss: 0.0707 - val_accuracy: 0.9793\n",
            "Epoch 2/10\n",
            "151/151 [==============================] - 12s 80ms/step - loss: 0.0879 - accuracy: 0.9747 - val_loss: 0.0694 - val_accuracy: 0.9797\n",
            "Epoch 3/10\n",
            "151/151 [==============================] - 12s 77ms/step - loss: 0.0826 - accuracy: 0.9759 - val_loss: 0.0678 - val_accuracy: 0.9808\n",
            "Epoch 4/10\n",
            "151/151 [==============================] - 12s 77ms/step - loss: 0.0814 - accuracy: 0.9757 - val_loss: 0.0652 - val_accuracy: 0.9811\n",
            "Epoch 5/10\n",
            "151/151 [==============================] - 12s 77ms/step - loss: 0.0768 - accuracy: 0.9775 - val_loss: 0.0649 - val_accuracy: 0.9808\n",
            "Epoch 6/10\n",
            "151/151 [==============================] - 11s 75ms/step - loss: 0.0732 - accuracy: 0.9784 - val_loss: 0.0634 - val_accuracy: 0.9809\n",
            "Epoch 7/10\n",
            "151/151 [==============================] - 12s 77ms/step - loss: 0.0707 - accuracy: 0.9781 - val_loss: 0.0637 - val_accuracy: 0.9808\n",
            "Epoch 8/10\n",
            "151/151 [==============================] - 11s 76ms/step - loss: 0.0683 - accuracy: 0.9797 - val_loss: 0.0619 - val_accuracy: 0.9818\n",
            "Epoch 9/10\n",
            "151/151 [==============================] - 11s 75ms/step - loss: 0.0648 - accuracy: 0.9804 - val_loss: 0.0607 - val_accuracy: 0.9822\n",
            "Epoch 10/10\n",
            "151/151 [==============================] - 11s 75ms/step - loss: 0.0643 - accuracy: 0.9809 - val_loss: 0.0607 - val_accuracy: 0.9815\n",
            "For kfold num: 3\n",
            "Epoch 1/10\n",
            "151/151 [==============================] - 11s 76ms/step - loss: 0.0706 - accuracy: 0.9781 - val_loss: 0.0444 - val_accuracy: 0.9884\n",
            "Epoch 2/10\n",
            "151/151 [==============================] - 11s 76ms/step - loss: 0.0661 - accuracy: 0.9798 - val_loss: 0.0445 - val_accuracy: 0.9881\n",
            "Epoch 3/10\n",
            "151/151 [==============================] - 11s 75ms/step - loss: 0.0638 - accuracy: 0.9803 - val_loss: 0.0452 - val_accuracy: 0.9882\n",
            "Epoch 4/10\n",
            "151/151 [==============================] - 12s 77ms/step - loss: 0.0624 - accuracy: 0.9797 - val_loss: 0.0478 - val_accuracy: 0.9861\n",
            "Epoch 5/10\n",
            "151/151 [==============================] - 12s 77ms/step - loss: 0.0612 - accuracy: 0.9812 - val_loss: 0.0468 - val_accuracy: 0.9869\n",
            "Epoch 6/10\n",
            "151/151 [==============================] - 11s 75ms/step - loss: 0.0567 - accuracy: 0.9826 - val_loss: 0.0471 - val_accuracy: 0.9873\n",
            "Epoch 7/10\n",
            "151/151 [==============================] - 11s 75ms/step - loss: 0.0564 - accuracy: 0.9820 - val_loss: 0.0479 - val_accuracy: 0.9866\n",
            "Epoch 8/10\n",
            "151/151 [==============================] - 11s 75ms/step - loss: 0.0547 - accuracy: 0.9830 - val_loss: 0.0496 - val_accuracy: 0.9851\n",
            "Epoch 9/10\n",
            "151/151 [==============================] - 11s 74ms/step - loss: 0.0528 - accuracy: 0.9832 - val_loss: 0.0483 - val_accuracy: 0.9866\n",
            "Epoch 10/10\n",
            "151/151 [==============================] - 11s 75ms/step - loss: 0.0523 - accuracy: 0.9836 - val_loss: 0.0480 - val_accuracy: 0.9861\n",
            "Train Accuracy=  0.9861000180244446\n"
          ],
          "name": "stdout"
        }
      ]
    },
    {
      "cell_type": "markdown",
      "metadata": {
        "id": "72IQZnqZNy8d"
      },
      "source": [
        "## The Fourth Model"
      ]
    },
    {
      "cell_type": "code",
      "metadata": {
        "colab": {
          "base_uri": "https://localhost:8080/"
        },
        "id": "LiHthbL1NxGJ",
        "outputId": "e893d79a-8c33-44da-96ca-b38814b5613a"
      },
      "source": [
        "model4 = buildModel4()\r\n",
        "accuracy4= crossValidate(trainInput,trainOutput,model4)\r\n",
        "print(\"Train Accuracy= \",accuracy4)"
      ],
      "execution_count": 9,
      "outputs": [
        {
          "output_type": "stream",
          "text": [
            "For kfold num: 1\n",
            "Epoch 1/10\n",
            "151/151 [==============================] - 18s 116ms/step - loss: 1.4421 - accuracy: 0.5597 - val_loss: 0.2852 - val_accuracy: 0.9157\n",
            "Epoch 2/10\n",
            "151/151 [==============================] - 18s 117ms/step - loss: 0.2826 - accuracy: 0.9166 - val_loss: 0.1821 - val_accuracy: 0.9444\n",
            "Epoch 3/10\n",
            "151/151 [==============================] - 17s 112ms/step - loss: 0.2022 - accuracy: 0.9396 - val_loss: 0.1458 - val_accuracy: 0.9574\n",
            "Epoch 4/10\n",
            "151/151 [==============================] - 17s 113ms/step - loss: 0.1580 - accuracy: 0.9522 - val_loss: 0.1183 - val_accuracy: 0.9656\n",
            "Epoch 5/10\n",
            "151/151 [==============================] - 17s 113ms/step - loss: 0.1258 - accuracy: 0.9614 - val_loss: 0.1174 - val_accuracy: 0.9657\n",
            "Epoch 6/10\n",
            "151/151 [==============================] - 17s 113ms/step - loss: 0.1229 - accuracy: 0.9626 - val_loss: 0.1076 - val_accuracy: 0.9678\n",
            "Epoch 7/10\n",
            "151/151 [==============================] - 17s 113ms/step - loss: 0.1106 - accuracy: 0.9664 - val_loss: 0.1032 - val_accuracy: 0.9691\n",
            "Epoch 8/10\n",
            "151/151 [==============================] - 17s 114ms/step - loss: 0.1026 - accuracy: 0.9682 - val_loss: 0.0873 - val_accuracy: 0.9747\n",
            "Epoch 9/10\n",
            "151/151 [==============================] - 17s 113ms/step - loss: 0.0875 - accuracy: 0.9730 - val_loss: 0.0800 - val_accuracy: 0.9766\n",
            "Epoch 10/10\n",
            "151/151 [==============================] - 17s 114ms/step - loss: 0.0823 - accuracy: 0.9745 - val_loss: 0.0851 - val_accuracy: 0.9756\n",
            "For kfold num: 2\n",
            "Epoch 1/10\n",
            "151/151 [==============================] - 17s 112ms/step - loss: 0.0903 - accuracy: 0.9719 - val_loss: 0.0653 - val_accuracy: 0.9801\n",
            "Epoch 2/10\n",
            "151/151 [==============================] - 17s 113ms/step - loss: 0.0763 - accuracy: 0.9765 - val_loss: 0.0604 - val_accuracy: 0.9810\n",
            "Epoch 3/10\n",
            "151/151 [==============================] - 17s 113ms/step - loss: 0.0747 - accuracy: 0.9765 - val_loss: 0.0595 - val_accuracy: 0.9819\n",
            "Epoch 4/10\n",
            "151/151 [==============================] - 17s 112ms/step - loss: 0.0699 - accuracy: 0.9779 - val_loss: 0.0572 - val_accuracy: 0.9821\n",
            "Epoch 5/10\n",
            "151/151 [==============================] - 17s 114ms/step - loss: 0.0655 - accuracy: 0.9801 - val_loss: 0.0556 - val_accuracy: 0.9829\n",
            "Epoch 6/10\n",
            "151/151 [==============================] - 17s 113ms/step - loss: 0.0618 - accuracy: 0.9808 - val_loss: 0.0573 - val_accuracy: 0.9830\n",
            "Epoch 7/10\n",
            "151/151 [==============================] - 17s 113ms/step - loss: 0.0570 - accuracy: 0.9828 - val_loss: 0.0586 - val_accuracy: 0.9820\n",
            "Epoch 8/10\n",
            "151/151 [==============================] - 17s 113ms/step - loss: 0.0576 - accuracy: 0.9815 - val_loss: 0.0543 - val_accuracy: 0.9834\n",
            "Epoch 9/10\n",
            "151/151 [==============================] - 17s 113ms/step - loss: 0.0532 - accuracy: 0.9831 - val_loss: 0.0605 - val_accuracy: 0.9824\n",
            "Epoch 10/10\n",
            "151/151 [==============================] - 18s 117ms/step - loss: 0.0515 - accuracy: 0.9840 - val_loss: 0.0630 - val_accuracy: 0.9807\n",
            "For kfold num: 3\n",
            "Epoch 1/10\n",
            "151/151 [==============================] - 17s 114ms/step - loss: 0.0630 - accuracy: 0.9815 - val_loss: 0.0357 - val_accuracy: 0.9883\n",
            "Epoch 2/10\n",
            "151/151 [==============================] - 17s 113ms/step - loss: 0.0585 - accuracy: 0.9823 - val_loss: 0.0329 - val_accuracy: 0.9892\n",
            "Epoch 3/10\n",
            "151/151 [==============================] - 17s 113ms/step - loss: 0.0560 - accuracy: 0.9830 - val_loss: 0.0407 - val_accuracy: 0.9872\n",
            "Epoch 4/10\n",
            "151/151 [==============================] - 17s 113ms/step - loss: 0.0555 - accuracy: 0.9824 - val_loss: 0.0378 - val_accuracy: 0.9885\n",
            "Epoch 5/10\n",
            "151/151 [==============================] - 17s 114ms/step - loss: 0.0501 - accuracy: 0.9848 - val_loss: 0.0345 - val_accuracy: 0.9894\n",
            "Epoch 6/10\n",
            "151/151 [==============================] - 17s 114ms/step - loss: 0.0469 - accuracy: 0.9851 - val_loss: 0.0433 - val_accuracy: 0.9861\n",
            "Epoch 7/10\n",
            "151/151 [==============================] - 17s 115ms/step - loss: 0.0451 - accuracy: 0.9859 - val_loss: 0.0362 - val_accuracy: 0.9887\n",
            "Epoch 8/10\n",
            "151/151 [==============================] - 17s 114ms/step - loss: 0.0460 - accuracy: 0.9855 - val_loss: 0.0404 - val_accuracy: 0.9877\n",
            "Epoch 9/10\n",
            "151/151 [==============================] - 17s 114ms/step - loss: 0.0418 - accuracy: 0.9869 - val_loss: 0.0357 - val_accuracy: 0.9887\n",
            "Epoch 10/10\n",
            "151/151 [==============================] - 17s 114ms/step - loss: 0.0402 - accuracy: 0.9871 - val_loss: 0.0363 - val_accuracy: 0.9883\n",
            "Train Accuracy=  0.9883000254631042\n"
          ],
          "name": "stdout"
        }
      ]
    },
    {
      "cell_type": "markdown",
      "metadata": {
        "id": "YdRnHlnhN4sZ"
      },
      "source": [
        "## The Fifth Model"
      ]
    },
    {
      "cell_type": "code",
      "metadata": {
        "colab": {
          "base_uri": "https://localhost:8080/"
        },
        "id": "W-fax1l5N45a",
        "outputId": "c6ca367f-23de-457e-a835-6a32d8b2252f"
      },
      "source": [
        "model5 = buildModel5()\r\n",
        "accuracy5= crossValidate(trainInput,trainOutput,model5)\r\n",
        "print(\"Train Accuracy= \",accuracy5 )"
      ],
      "execution_count": 10,
      "outputs": [
        {
          "output_type": "stream",
          "text": [
            "For kfold num: 1\n",
            "Epoch 1/10\n",
            "151/151 [==============================] - 22s 141ms/step - loss: 0.9439 - accuracy: 0.7624 - val_loss: 0.2588 - val_accuracy: 0.9252\n",
            "Epoch 2/10\n",
            "151/151 [==============================] - 21s 138ms/step - loss: 0.2137 - accuracy: 0.9382 - val_loss: 0.1644 - val_accuracy: 0.9538\n",
            "Epoch 3/10\n",
            "151/151 [==============================] - 21s 140ms/step - loss: 0.1446 - accuracy: 0.9598 - val_loss: 0.1235 - val_accuracy: 0.9656\n",
            "Epoch 4/10\n",
            "151/151 [==============================] - 21s 139ms/step - loss: 0.1065 - accuracy: 0.9712 - val_loss: 0.1024 - val_accuracy: 0.9715\n",
            "Epoch 5/10\n",
            "151/151 [==============================] - 21s 142ms/step - loss: 0.0828 - accuracy: 0.9778 - val_loss: 0.0905 - val_accuracy: 0.9746\n",
            "Epoch 6/10\n",
            "151/151 [==============================] - 22s 144ms/step - loss: 0.0697 - accuracy: 0.9806 - val_loss: 0.0808 - val_accuracy: 0.9771\n",
            "Epoch 7/10\n",
            "151/151 [==============================] - 21s 136ms/step - loss: 0.0631 - accuracy: 0.9822 - val_loss: 0.0819 - val_accuracy: 0.9768\n",
            "Epoch 8/10\n",
            "151/151 [==============================] - 20s 135ms/step - loss: 0.0570 - accuracy: 0.9836 - val_loss: 0.0751 - val_accuracy: 0.9778\n",
            "Epoch 9/10\n",
            "151/151 [==============================] - 21s 136ms/step - loss: 0.0505 - accuracy: 0.9853 - val_loss: 0.0743 - val_accuracy: 0.9775\n",
            "Epoch 10/10\n",
            "151/151 [==============================] - 20s 136ms/step - loss: 0.0471 - accuracy: 0.9865 - val_loss: 0.0694 - val_accuracy: 0.9801\n",
            "For kfold num: 2\n",
            "Epoch 1/10\n",
            "151/151 [==============================] - 21s 137ms/step - loss: 0.0595 - accuracy: 0.9832 - val_loss: 0.0427 - val_accuracy: 0.9883\n",
            "Epoch 2/10\n",
            "151/151 [==============================] - 20s 135ms/step - loss: 0.0521 - accuracy: 0.9853 - val_loss: 0.0453 - val_accuracy: 0.9862\n",
            "Epoch 3/10\n",
            "151/151 [==============================] - 21s 136ms/step - loss: 0.0478 - accuracy: 0.9867 - val_loss: 0.0441 - val_accuracy: 0.9860\n",
            "Epoch 4/10\n",
            "151/151 [==============================] - 20s 135ms/step - loss: 0.0452 - accuracy: 0.9869 - val_loss: 0.0427 - val_accuracy: 0.9872\n",
            "Epoch 5/10\n",
            "151/151 [==============================] - 20s 136ms/step - loss: 0.0417 - accuracy: 0.9885 - val_loss: 0.0430 - val_accuracy: 0.9868\n",
            "Epoch 6/10\n",
            "151/151 [==============================] - 21s 136ms/step - loss: 0.0399 - accuracy: 0.9887 - val_loss: 0.0455 - val_accuracy: 0.9856\n",
            "Epoch 7/10\n",
            "151/151 [==============================] - 20s 135ms/step - loss: 0.0367 - accuracy: 0.9895 - val_loss: 0.0442 - val_accuracy: 0.9868\n",
            "Epoch 8/10\n",
            "151/151 [==============================] - 20s 135ms/step - loss: 0.0347 - accuracy: 0.9900 - val_loss: 0.0447 - val_accuracy: 0.9862\n",
            "Epoch 9/10\n",
            "151/151 [==============================] - 21s 136ms/step - loss: 0.0330 - accuracy: 0.9909 - val_loss: 0.0505 - val_accuracy: 0.9832\n",
            "Epoch 10/10\n",
            "151/151 [==============================] - 20s 136ms/step - loss: 0.0307 - accuracy: 0.9912 - val_loss: 0.0472 - val_accuracy: 0.9845\n",
            "For kfold num: 3\n",
            "Epoch 1/10\n",
            "151/151 [==============================] - 22s 146ms/step - loss: 0.0427 - accuracy: 0.9870 - val_loss: 0.0242 - val_accuracy: 0.9934\n",
            "Epoch 2/10\n",
            "151/151 [==============================] - 21s 141ms/step - loss: 0.0375 - accuracy: 0.9891 - val_loss: 0.0252 - val_accuracy: 0.9930\n",
            "Epoch 3/10\n",
            "151/151 [==============================] - 21s 139ms/step - loss: 0.0341 - accuracy: 0.9897 - val_loss: 0.0277 - val_accuracy: 0.9924\n",
            "Epoch 4/10\n",
            "151/151 [==============================] - 21s 140ms/step - loss: 0.0315 - accuracy: 0.9905 - val_loss: 0.0286 - val_accuracy: 0.9919\n",
            "Epoch 5/10\n",
            "151/151 [==============================] - 22s 144ms/step - loss: 0.0284 - accuracy: 0.9916 - val_loss: 0.0300 - val_accuracy: 0.9912\n",
            "Epoch 6/10\n",
            "151/151 [==============================] - 21s 140ms/step - loss: 0.0285 - accuracy: 0.9912 - val_loss: 0.0297 - val_accuracy: 0.9912\n",
            "Epoch 7/10\n",
            "151/151 [==============================] - 21s 142ms/step - loss: 0.0259 - accuracy: 0.9919 - val_loss: 0.0308 - val_accuracy: 0.9908\n",
            "Epoch 8/10\n",
            "151/151 [==============================] - 21s 140ms/step - loss: 0.0252 - accuracy: 0.9925 - val_loss: 0.0306 - val_accuracy: 0.9909\n",
            "Epoch 9/10\n",
            "151/151 [==============================] - 22s 143ms/step - loss: 0.0230 - accuracy: 0.9933 - val_loss: 0.0311 - val_accuracy: 0.9913\n",
            "Epoch 10/10\n",
            "151/151 [==============================] - 21s 140ms/step - loss: 0.0223 - accuracy: 0.9935 - val_loss: 0.0327 - val_accuracy: 0.9898\n",
            "Train Accuracy=  0.989799976348877\n"
          ],
          "name": "stdout"
        }
      ]
    },
    {
      "cell_type": "markdown",
      "metadata": {
        "id": "D5AMCy_7Pdib"
      },
      "source": [
        "The model with best training accuracy is the First model."
      ]
    },
    {
      "cell_type": "markdown",
      "metadata": {
        "id": "QeF7KcP3PIc7"
      },
      "source": [
        "# Testing the Models"
      ]
    },
    {
      "cell_type": "markdown",
      "metadata": {
        "id": "09zQDRj3ehD1"
      },
      "source": [
        "## The First Model"
      ]
    },
    {
      "cell_type": "code",
      "metadata": {
        "colab": {
          "base_uri": "https://localhost:8080/"
        },
        "id": "1eFv3im9ehX5",
        "outputId": "84388c8a-493b-43dd-dae2-922e713fd65c"
      },
      "source": [
        "_,acc = model1.evaluate(testInput, testOutput, verbose=0)\r\n",
        "print(\"Test accuracy:\", acc)"
      ],
      "execution_count": 22,
      "outputs": [
        {
          "output_type": "stream",
          "text": [
            "Test accuracy: 0.9916999936103821\n"
          ],
          "name": "stdout"
        }
      ]
    },
    {
      "cell_type": "markdown",
      "metadata": {
        "id": "75fIAtJgehoQ"
      },
      "source": [
        "## The Second Model"
      ]
    },
    {
      "cell_type": "code",
      "metadata": {
        "id": "UEU2zdxceh6N"
      },
      "source": [
        "_,acc = model2.evaluate(testInput, testOutput, verbose=0)\r\n",
        "print(\"Test accuracy:\", acc)"
      ],
      "execution_count": null,
      "outputs": []
    },
    {
      "cell_type": "markdown",
      "metadata": {
        "id": "Jl5TzmVkeiJc"
      },
      "source": [
        "## The Third Model"
      ]
    },
    {
      "cell_type": "code",
      "metadata": {
        "id": "Ag1MhiXEeiXa"
      },
      "source": [
        "_,acc = model3.evaluate(testInput, testOutput, verbose=0)\r\n",
        "print(\"Test accuracy:\", acc)"
      ],
      "execution_count": null,
      "outputs": []
    },
    {
      "cell_type": "markdown",
      "metadata": {
        "id": "zBt0HS31eil_"
      },
      "source": [
        "## The Fourth Model"
      ]
    },
    {
      "cell_type": "code",
      "metadata": {
        "id": "NttFtwwQei0i"
      },
      "source": [
        "_,acc = model4.evaluate(testInput, testOutput, verbose=0)\r\n",
        "print(\"Test accuracy:\", acc)"
      ],
      "execution_count": null,
      "outputs": []
    },
    {
      "cell_type": "markdown",
      "metadata": {
        "id": "YVvgfM5HejNZ"
      },
      "source": [
        "## The Fifth Model"
      ]
    },
    {
      "cell_type": "code",
      "metadata": {
        "id": "vp-soXAJd3SL"
      },
      "source": [
        "_,acc = model5.evaluate(testInput, testOutput, verbose=0)\r\n",
        "print(\"Test accuracy:\", acc)"
      ],
      "execution_count": null,
      "outputs": []
    }
  ]
}