{
  "nbformat": 4,
  "nbformat_minor": 0,
  "metadata": {
    "colab": {
      "name": "DecisionTree.ipynb",
      "provenance": [],
      "collapsed_sections": [
        "8C0s5tgx9D1c",
        "a5qoyZbL9UBw",
        "Cj8GBgi29gns",
        "vQaqXhF19mdk",
        "wnOFHmqv9wUD"
      ],
      "toc_visible": true
    },
    "kernelspec": {
      "name": "python3",
      "display_name": "Python 3"
    }
  },
  "cells": [
    {
      "cell_type": "markdown",
      "metadata": {
        "id": "I2iigxHK7nGM"
      },
      "source": [
        "# **Decision Tree Algorithm using Information Gain**"
      ]
    },
    {
      "cell_type": "markdown",
      "metadata": {
        "id": "cLzVjLOA7xny"
      },
      "source": [
        "## Importing necessary libraries"
      ]
    },
    {
      "cell_type": "code",
      "metadata": {
        "id": "UdGB0OPTbezD"
      },
      "source": [
        "import pandas as pd\r\n",
        "import numpy as np\r\n",
        "import random"
      ],
      "execution_count": 10,
      "outputs": []
    },
    {
      "cell_type": "markdown",
      "metadata": {
        "id": "8C0s5tgx9D1c"
      },
      "source": [
        "## Defining functions"
      ]
    },
    {
      "cell_type": "markdown",
      "metadata": {
        "id": "DUo_IeBs8Obt"
      },
      "source": [
        "### Sub-functions"
      ]
    },
    {
      "cell_type": "code",
      "metadata": {
        "id": "jtozqEVFKYKK"
      },
      "source": [
        "# algorithms\r\n",
        "\r\n",
        "\r\n",
        "def calculateEntropy(dataframe):\r\n",
        "\r\n",
        "  labels, probabilities = np.unique(dataframe.loc[:,\"Label\"], return_counts=True)\r\n",
        "  probabilities = probabilities/sum(probabilities)\r\n",
        "  return -np.dot(probabilities,np.log2(probabilities))\r\n",
        "\r\n",
        "def calculateGain(dataframe,feature):\r\n",
        "\r\n",
        "  parentEntropy = calculateEntropy(dataframe)\r\n",
        "  yesDataframe = dataframe[dataframe[feature]=='y']\r\n",
        "  noDataframe = dataframe[dataframe[feature]=='n']\r\n",
        "  numOfParent = len(dataframe)\r\n",
        "\r\n",
        "  averageYesEntropy =  calculateEntropy(yesDataframe)*(len(yesDataframe)/numOfParent)\r\n",
        "  averageNoEntropy =  calculateEntropy(noDataframe)*(len(noDataframe)/numOfParent)\r\n",
        "\r\n",
        "  return parentEntropy-(averageYesEntropy+averageNoEntropy)\r\n",
        "\r\n",
        "\r\n",
        "def chooseFeature(dataframe,cols):\r\n",
        "  entropy = calculateEntropy(dataframe)\r\n",
        "  bestFeature=cols[0]\r\n",
        "  bestGain = calculateGain(dataframe,cols[0])\r\n",
        "  for i in cols:\r\n",
        "    tempDataframe = dataframe.copy()\r\n",
        "    if(bestGain<calculateGain(tempDataframe,i)):\r\n",
        "    \r\n",
        "      bestFeature=i\r\n",
        "    \r\n",
        "  return bestFeature\r\n",
        "\r\n",
        "def checkPure(space):\r\n",
        "  for d in space:\r\n",
        "    if(d[0].loc[:,'Label'].nunique()!=1):\r\n",
        "      return False\r\n",
        "  return True\r\n",
        "    "
      ],
      "execution_count": 11,
      "outputs": []
    },
    {
      "cell_type": "markdown",
      "metadata": {
        "id": "KOAXhT3T8qQS"
      },
      "source": [
        "### Building the tree, the setting the classifier and implementing the classification function"
      ]
    },
    {
      "cell_type": "code",
      "metadata": {
        "id": "tbqtKuw16Kcb"
      },
      "source": [
        "def Decision_Tree_Classifier(dataframe):\r\n",
        "  rules = []\r\n",
        "  level=0\r\n",
        "  space =[[dataframe,\"\"]]\r\n",
        "\r\n",
        "  columns = dataframe.columns.copy().tolist()[1:]\r\n",
        "  \r\n",
        "  maxDecision = 500\r\n",
        "  while(((not checkPure(space))and (level<maxDecision) )):\r\n",
        "    #print(columns)\r\n",
        "    \r\n",
        "    level+=1\r\n",
        "    record = space.pop(0)\r\n",
        "    dataframe = record[0] \r\n",
        "    if(len(dataframe)==0):\r\n",
        "      continue\r\n",
        "\r\n",
        "      # perfectly classified \r\n",
        "    if(dataframe.loc[:,'Label'].nunique()==1):\r\n",
        "      rules.append([record[1],dataframe['Label'].unique()[0]])\r\n",
        "      #print(dataframe.head())\r\n",
        "      continue\r\n",
        "\r\n",
        "    bestFeature = chooseFeature(dataframe,columns)\r\n",
        "    #columns.remove(bestFeature)\r\n",
        "    path = record[1]+ bestFeature \r\n",
        "      \r\n",
        "    space.append([dataframe[dataframe[bestFeature]=='y'],path+\":y \"])\r\n",
        "    space.append([dataframe[dataframe[bestFeature]=='n'],path+\":n \"])\r\n",
        "\r\n",
        "  # get pure rules\r\n",
        "\r\n",
        "  return rules\r\n"
      ],
      "execution_count": 12,
      "outputs": []
    },
    {
      "cell_type": "code",
      "metadata": {
        "id": "Xj9x_Dy34B-j"
      },
      "source": [
        "\r\n",
        "def setClassifier(rules):\r\n",
        "  classifier = []\r\n",
        "  for r in rules:\r\n",
        "    c = []\r\n",
        "    path = r[0].split(\" \")\r\n",
        "    path=path[:len(path)-1]\r\n",
        "    for f in path:\r\n",
        "      c.append(f.split(\":\"))\r\n",
        "      \r\n",
        "    classifier.append([c,r[1]])\r\n",
        "\r\n",
        "  return classifier \r\n",
        "\r\n",
        "def classify(classifier,record):\r\n",
        "  for i in classifier:\r\n",
        "    rule = i[0]\r\n",
        "    prediction = i[1]\r\n",
        "    state = True\r\n",
        "    for j in rule:\r\n",
        "      if(record[j[0]]!=j[1]):\r\n",
        "        state=False\r\n",
        "        break \r\n",
        "    if(state==True):\r\n",
        "      return prediction\r\n",
        "\r\n",
        "  return \"Can not classify\"\r\n",
        "          \r\n",
        "\r\n",
        "def getError(classifier,testData):\r\n",
        "  i=0\r\n",
        "  for index, row in testData.iterrows():\r\n",
        "    if(classify(classifier,row )!=row['Label']):\r\n",
        "      i+=1\r\n",
        "  return i/len(testData)\r\n",
        "\r\n",
        "\r\n"
      ],
      "execution_count": 13,
      "outputs": []
    },
    {
      "cell_type": "markdown",
      "metadata": {
        "id": "a5qoyZbL9UBw"
      },
      "source": [
        "## Reading and Preprocessing The Data"
      ]
    },
    {
      "cell_type": "markdown",
      "metadata": {
        "id": "Cj8GBgi29gns"
      },
      "source": [
        "### Reading the data from the file"
      ]
    },
    {
      "cell_type": "code",
      "metadata": {
        "id": "ipk3SZushhVM"
      },
      "source": [
        "# reading data\r\n",
        "\r\n",
        "data = []\r\n",
        "\r\n",
        "file = open(\"house-votes-84.txt\",\"r\")\r\n",
        "\r\n",
        "for  line in file:\r\n",
        "\r\n",
        "  record = line[:len(line)-1] .split(\",\")\r\n",
        "  data.append(record)\r\n",
        "\r\n",
        "file.close()"
      ],
      "execution_count": 14,
      "outputs": []
    },
    {
      "cell_type": "markdown",
      "metadata": {
        "id": "vQaqXhF19mdk"
      },
      "source": [
        "### Creating a Dataframe"
      ]
    },
    {
      "cell_type": "code",
      "metadata": {
        "id": "-YViPYzAZPTD"
      },
      "source": [
        "\r\n",
        "dataframe = pd.DataFrame(data, columns=[\"Label\",\"Issue_1\",\"Issue_2\",\"Issue_3\",\"Issue_4\",\"Issue_5\",\"Issue_6\",\"Issue_7\",\"Issue_8\",\"Issue_9\",\"Issue_10\",\"Issue_11\",\"Issue_12\",\"Issue_13\",\"Issue_14\",\"Issue_15\",\"Issue_16\"])\r\n"
      ],
      "execution_count": 15,
      "outputs": []
    },
    {
      "cell_type": "markdown",
      "metadata": {
        "id": "wnOFHmqv9wUD"
      },
      "source": [
        "### Preprocessing the data to remove none values"
      ]
    },
    {
      "cell_type": "code",
      "metadata": {
        "id": "5azjiijocyEy"
      },
      "source": [
        "# preprocess the data\r\n",
        "for i in range (1,17):\r\n",
        "  col = \"Issue_\"+str(i)\r\n",
        "  numNo = len(dataframe[dataframe[col]=='n'])\r\n",
        "  numYes = len(dataframe[dataframe[col]=='y'])\r\n",
        "  if(numNo>numYes):\r\n",
        "    dataframe.loc[dataframe[col] == '?',col] = 'n'\r\n",
        "\r\n",
        "  else:\r\n",
        "    dataframe.loc[dataframe[col] == '?',col] = 'y'\r\n"
      ],
      "execution_count": 16,
      "outputs": []
    },
    {
      "cell_type": "markdown",
      "metadata": {
        "id": "Yo0V8QTW-IlK"
      },
      "source": [
        "## Defining the run functions"
      ]
    },
    {
      "cell_type": "code",
      "metadata": {
        "id": "DaxFCVP9wd3E"
      },
      "source": [
        "\r\n",
        "def run(train,test):\r\n",
        "  decisionTree=Decision_Tree_Classifier(train) \r\n",
        "  classifier = setClassifier(decisionTree)\r\n",
        "  return len(classifier),getError(classifier,test)\r\n",
        "\r\n",
        "\r\n",
        "def run_randomly(dataframe,partition):\r\n",
        "  acc = [1000,0]\r\n",
        "  nr  = [1000,0]\r\n",
        "\r\n",
        "  for i in range(5):\r\n",
        "    seed = random.randint(0, 30)\r\n",
        "    train=dataframe.sample(n=int(partition*len(dataframe)), replace=False,random_state=seed) \r\n",
        "    test=dataframe.drop(train.index) \r\n",
        "    numOfRules,error = run(train,test)\r\n",
        "    if(acc[0]>error):\r\n",
        "      acc[0]=error\r\n",
        "    if(acc[1]<error):\r\n",
        "      acc[1]=error\r\n",
        "\r\n",
        "    if(nr[0]>numOfRules):\r\n",
        "      nr[0]=numOfRules\r\n",
        "    if(nr[1]<numOfRules):\r\n",
        "      nr[1]=numOfRules\r\n",
        "\r\n",
        "\r\n",
        "    print(\"For sample \"+str(i+1)+\":  num of rules= \"+ str(numOfRules) +\", with error= \"+str(error) +\" with seed:\"+str(seed))\r\n",
        "  print(\"Min len of rules: \"+str(nr[0])+\", mean len of rules:\"+str((nr[0]+nr[1])/2.0)+\", max len of rules:\"+str(nr[1]))\r\n",
        "  print(\"Min error: \"+str(acc[0])+\", mean error:\"+str((acc[0]+acc[1])/2.0)+\", max error:\"+str(acc[1]))  \r\n",
        "\r\n",
        "  "
      ],
      "execution_count": 17,
      "outputs": []
    },
    {
      "cell_type": "markdown",
      "metadata": {
        "id": "mCK7lmOZ-rfF"
      },
      "source": [
        "## Running the Model over Different training and testing data"
      ]
    },
    {
      "cell_type": "markdown",
      "metadata": {
        "id": "5QP7V9qP_RjV"
      },
      "source": [
        "### Using 25% for training and 75% for testing not by setting the seed randomly"
      ]
    },
    {
      "cell_type": "code",
      "metadata": {
        "colab": {
          "base_uri": "https://localhost:8080/"
        },
        "id": "Y5zWHaOK_eR3",
        "outputId": "111374c8-3a4a-47da-a7ba-a2357ac02908"
      },
      "source": [
        "\r\n",
        "for i in range(5):\r\n",
        "  train=dataframe.sample(frac =.25) \r\n",
        "  test=dataframe.drop(train.index) \r\n",
        "  numOfRules,error = run(train,test)\r\n",
        "  print(\"For sample \"+str(i+1)+\":  num of rules= \"+ str(numOfRules) +\", with error= \"+str(error))\r\n"
      ],
      "execution_count": 18,
      "outputs": [
        {
          "output_type": "stream",
          "text": [
            "For sample 1:  num of rules= 18, with error= 0.19631901840490798\n",
            "For sample 2:  num of rules= 29, with error= 0.1196319018404908\n",
            "For sample 3:  num of rules= 15, with error= 0.17177914110429449\n",
            "For sample 4:  num of rules= 13, with error= 0.21779141104294478\n",
            "For sample 5:  num of rules= 28, with error= 0.2361963190184049\n"
          ],
          "name": "stdout"
        }
      ]
    },
    {
      "cell_type": "markdown",
      "metadata": {
        "id": "K-W_kDEnO-MO"
      },
      "source": [
        "### Using 30% for training and 70% for testing"
      ]
    },
    {
      "cell_type": "code",
      "metadata": {
        "colab": {
          "base_uri": "https://localhost:8080/"
        },
        "id": "G9ECu2dyPKl6",
        "outputId": "084f2634-8306-4b16-db04-097deef444d1"
      },
      "source": [
        "run_randomly(dataframe,0.3)\r\n"
      ],
      "execution_count": 19,
      "outputs": [
        {
          "output_type": "stream",
          "text": [
            "For sample 1:  num of rules= 18, with error= 0.16721311475409836 with seed:4\n",
            "For sample 2:  num of rules= 22, with error= 0.2 with seed:26\n",
            "For sample 3:  num of rules= 34, with error= 0.18688524590163935 with seed:17\n",
            "For sample 4:  num of rules= 27, with error= 0.18688524590163935 with seed:10\n",
            "For sample 5:  num of rules= 27, with error= 0.1377049180327869 with seed:23\n",
            "Min len of rules: 18, mean len of rules:26.0, max len of rules:34\n",
            "Min error: 0.1377049180327869, mean error:0.16885245901639345, max error:0.2\n"
          ],
          "name": "stdout"
        }
      ]
    },
    {
      "cell_type": "markdown",
      "metadata": {
        "id": "LGY8Btq-0W7g"
      },
      "source": [
        "### Using 40% for training and 60% for testing"
      ]
    },
    {
      "cell_type": "code",
      "metadata": {
        "id": "Yt8U2XTA0fLg",
        "colab": {
          "base_uri": "https://localhost:8080/"
        },
        "outputId": "0cf5cefd-dd3d-4336-f00c-99bd14fa1bc6"
      },
      "source": [
        "run_randomly(dataframe,0.4)\r\n"
      ],
      "execution_count": 20,
      "outputs": [
        {
          "output_type": "stream",
          "text": [
            "For sample 1:  num of rules= 28, with error= 0.26436781609195403 with seed:14\n",
            "For sample 2:  num of rules= 39, with error= 0.13793103448275862 with seed:1\n",
            "For sample 3:  num of rules= 39, with error= 0.19540229885057472 with seed:22\n",
            "For sample 4:  num of rules= 35, with error= 0.11877394636015326 with seed:7\n",
            "For sample 5:  num of rules= 29, with error= 0.2567049808429119 with seed:2\n",
            "Min len of rules: 28, mean len of rules:33.5, max len of rules:39\n",
            "Min error: 0.11877394636015326, mean error:0.19157088122605365, max error:0.26436781609195403\n"
          ],
          "name": "stdout"
        }
      ]
    },
    {
      "cell_type": "markdown",
      "metadata": {
        "id": "yKwm752i0f4E"
      },
      "source": [
        "### Using 50% for training and 50% for testing"
      ]
    },
    {
      "cell_type": "code",
      "metadata": {
        "id": "fskh6_Sr0kXC",
        "colab": {
          "base_uri": "https://localhost:8080/"
        },
        "outputId": "bbc5521c-03d4-40af-f221-1e5e548ee268"
      },
      "source": [
        "run_randomly(dataframe,0.5)\r\n"
      ],
      "execution_count": 21,
      "outputs": [
        {
          "output_type": "stream",
          "text": [
            "For sample 1:  num of rules= 37, with error= 0.15137614678899083 with seed:30\n",
            "For sample 2:  num of rules= 46, with error= 0.1651376146788991 with seed:6\n",
            "For sample 3:  num of rules= 50, with error= 0.13302752293577982 with seed:20\n",
            "For sample 4:  num of rules= 52, with error= 0.10091743119266056 with seed:29\n",
            "For sample 5:  num of rules= 50, with error= 0.0871559633027523 with seed:13\n",
            "Min len of rules: 37, mean len of rules:44.5, max len of rules:52\n",
            "Min error: 0.0871559633027523, mean error:0.1261467889908257, max error:0.1651376146788991\n"
          ],
          "name": "stdout"
        }
      ]
    },
    {
      "cell_type": "markdown",
      "metadata": {
        "id": "nhst-n5q0m7c"
      },
      "source": [
        "### Using 60% for training and 40% for testing"
      ]
    },
    {
      "cell_type": "code",
      "metadata": {
        "id": "ETxStdnf03dh",
        "colab": {
          "base_uri": "https://localhost:8080/"
        },
        "outputId": "1c264900-a196-4caa-b3e5-83b460d9b8ca"
      },
      "source": [
        "run_randomly(dataframe,0.6)\r\n"
      ],
      "execution_count": 22,
      "outputs": [
        {
          "output_type": "stream",
          "text": [
            "For sample 1:  num of rules= 40, with error= 0.15517241379310345 with seed:9\n",
            "For sample 2:  num of rules= 48, with error= 0.13218390804597702 with seed:20\n",
            "For sample 3:  num of rules= 48, with error= 0.13218390804597702 with seed:30\n",
            "For sample 4:  num of rules= 58, with error= 0.14367816091954022 with seed:12\n",
            "For sample 5:  num of rules= 49, with error= 0.1206896551724138 with seed:7\n",
            "Min len of rules: 40, mean len of rules:49.0, max len of rules:58\n",
            "Min error: 0.1206896551724138, mean error:0.13793103448275862, max error:0.15517241379310345\n"
          ],
          "name": "stdout"
        }
      ]
    },
    {
      "cell_type": "markdown",
      "metadata": {
        "id": "28-rea3v0_x8"
      },
      "source": [
        "### Using 70% for training and 30% for testing"
      ]
    },
    {
      "cell_type": "code",
      "metadata": {
        "id": "NjNU-aC21HNY",
        "colab": {
          "base_uri": "https://localhost:8080/"
        },
        "outputId": "a378bf0b-ab75-4e55-dcf8-5d7f8fbed411"
      },
      "source": [
        "run_randomly(dataframe,0.7)"
      ],
      "execution_count": 23,
      "outputs": [
        {
          "output_type": "stream",
          "text": [
            "For sample 1:  num of rules= 59, with error= 0.13740458015267176 with seed:22\n",
            "For sample 2:  num of rules= 46, with error= 0.1450381679389313 with seed:11\n",
            "For sample 3:  num of rules= 79, with error= 0.061068702290076333 with seed:27\n",
            "For sample 4:  num of rules= 61, with error= 0.15267175572519084 with seed:21\n",
            "For sample 5:  num of rules= 54, with error= 0.13740458015267176 with seed:26\n",
            "Min len of rules: 46, mean len of rules:62.5, max len of rules:79\n",
            "Min error: 0.061068702290076333, mean error:0.10687022900763359, max error:0.15267175572519084\n"
          ],
          "name": "stdout"
        }
      ]
    },
    {
      "cell_type": "markdown",
      "metadata": {
        "id": "vECzdNh8CIa3"
      },
      "source": [
        "The error was the least when the train test split was 70%-30%"
      ]
    }
  ]
}