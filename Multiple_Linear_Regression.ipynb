{
  "nbformat": 4,
  "nbformat_minor": 0,
  "metadata": {
    "colab": {
      "name": " Multiple Linear Regression.ipynb",
      "provenance": [],
      "collapsed_sections": []
    },
    "kernelspec": {
      "name": "python3",
      "display_name": "Python 3"
    }
  },
  "cells": [
    {
      "cell_type": "code",
      "metadata": {
        "id": "MnP6CIWGZu1C"
      },
      "source": [
        "# Assignment 1- Machine Learning course, \n",
        "# Part of: Student: Mariam Ahmed Amin\n",
        "#     ID :  20170279"
      ],
      "execution_count": null,
      "outputs": []
    },
    {
      "cell_type": "code",
      "metadata": {
        "id": "Dx_anHt0YJVp"
      },
      "source": [
        "import pandas as pd\n",
        "import numpy as np\n",
        "import matplotlib.pyplot as plt"
      ],
      "execution_count": null,
      "outputs": []
    },
    {
      "cell_type": "code",
      "metadata": {
        "id": "sGg1SIHSMSTH"
      },
      "source": [
        "\n",
        "def hypothesis(features,thetas):\n",
        "  return np.dot(features,thetas)\n",
        "\n",
        "def gradient_descent(thetas,features,loss):\n",
        "  sub_term = [ i*loss for i in features]\n",
        "   \n",
        "  return np.subtract(thetas,sub_term)\n",
        "\n",
        "\n",
        "def MLR(X,Y,dataset_size,alpha,numOfIterations):\n",
        "\n",
        "\n",
        "  thetas = (1+len(X[0]))*[1]\n",
        "  lastError=100\n",
        "  lastThetas = (1+len(X[0]))*[1]\n",
        "  error = []\n",
        "  #loop over iterations\n",
        "  for i in range(numOfIterations):\n",
        "    loss = 0 \n",
        "    MSE = 0\n",
        "    # loop over each record \n",
        "    for j in range (int(dataset_size)):\n",
        "      x = [1]+X[j]\n",
        "      y = Y[j][0]\n",
        "      # calculate the hypothesis \n",
        "      h = hypothesis(x,thetas)\n",
        "      # calculate the mean square error of current record \n",
        "      MSE_per_record = pow(h-y,2)/(2.0*dataset_size) \n",
        "      # add it to total MSE of the current iteration\n",
        "      MSE+=MSE_per_record\n",
        "      # calculate the loss\n",
        "      # multiply by 2, because 2 came from the derivative of the MSE function\n",
        "      loss += (h-y)*(1.0/(dataset_size))*alpha\n",
        "    # if it finds local minima \n",
        "    if(MSE>lastError):\n",
        "      print(\"Converged with mean square error = \"+ str(lastError))\n",
        "      print(\"with thetas= \"+str(lastThetas))\n",
        "\n",
        "      \n",
        "      plt.plot(error)\n",
        "      plt.ylabel('MSE over iterations')\n",
        "      plt.show()\n",
        "      return thetas\n",
        "      break\n",
        "    else:\n",
        "      lastError = MSE.copy()\n",
        "    # update the weights\n",
        "    lastThetas = thetas.copy()\n",
        "    thetas =  gradient_descent(thetas,x,loss) \n",
        "    print(\"In iteration: \"+str(i)+\", The Mean Square error = \"+str(np.format_float_positional(MSE, trim='-')))\n",
        "    error.append(MSE)\n",
        "  plt.plot(error)\n",
        "  plt.ylabel('MSE over iterations')\n",
        "  plt.show()\n",
        "  return thetas\n",
        "\n"
      ],
      "execution_count": null,
      "outputs": []
    },
    {
      "cell_type": "code",
      "metadata": {
        "id": "Z93bTdF-W8Px"
      },
      "source": [
        "# read the data\n",
        "house_data= pd.read_csv(\"house_data.csv\")"
      ],
      "execution_count": null,
      "outputs": []
    },
    {
      "cell_type": "code",
      "metadata": {
        "id": "z5nGJ72iXR2P"
      },
      "source": [
        "# selecting features and the label\n",
        "features = house_data.loc[:,[\"grade\", \"bathrooms\", \"lat\",\"sqft_living\",\"view\"]]\n",
        "labels = house_data.loc[:,[\"price\"]]\n",
        "#house_data.dtypes\n",
        "#features.head()"
      ],
      "execution_count": null,
      "outputs": []
    },
    {
      "cell_type": "code",
      "metadata": {
        "id": "xqQczhOC3kNh"
      },
      "source": [
        "#features.describe()"
      ],
      "execution_count": null,
      "outputs": []
    },
    {
      "cell_type": "code",
      "metadata": {
        "id": "Wrkxfdpf17CC"
      },
      "source": [
        "# normalize the dataset\n",
        "features =(features-features.mean())/(features.max()-features.min())\n",
        "labels = (labels-labels.mean())/(labels.max()-labels.min())\n"
      ],
      "execution_count": null,
      "outputs": []
    },
    {
      "cell_type": "code",
      "metadata": {
        "colab": {
          "base_uri": "https://localhost:8080/",
          "height": 288
        },
        "id": "7iFp7dpP23Gq",
        "outputId": "72b798fb-6be7-4e57-c57e-de47fed8aa23"
      },
      "source": [
        "features.describe()"
      ],
      "execution_count": null,
      "outputs": [
        {
          "output_type": "execute_result",
          "data": {
            "text/html": [
              "<div>\n",
              "<style scoped>\n",
              "    .dataframe tbody tr th:only-of-type {\n",
              "        vertical-align: middle;\n",
              "    }\n",
              "\n",
              "    .dataframe tbody tr th {\n",
              "        vertical-align: top;\n",
              "    }\n",
              "\n",
              "    .dataframe thead th {\n",
              "        text-align: right;\n",
              "    }\n",
              "</style>\n",
              "<table border=\"1\" class=\"dataframe\">\n",
              "  <thead>\n",
              "    <tr style=\"text-align: right;\">\n",
              "      <th></th>\n",
              "      <th>grade</th>\n",
              "      <th>bathrooms</th>\n",
              "      <th>lat</th>\n",
              "      <th>sqft_living</th>\n",
              "      <th>view</th>\n",
              "    </tr>\n",
              "  </thead>\n",
              "  <tbody>\n",
              "    <tr>\n",
              "      <th>count</th>\n",
              "      <td>2.161300e+04</td>\n",
              "      <td>2.161300e+04</td>\n",
              "      <td>2.161300e+04</td>\n",
              "      <td>2.161300e+04</td>\n",
              "      <td>2.161300e+04</td>\n",
              "    </tr>\n",
              "    <tr>\n",
              "      <th>mean</th>\n",
              "      <td>-4.636920e-16</td>\n",
              "      <td>2.201825e-15</td>\n",
              "      <td>6.088836e-14</td>\n",
              "      <td>2.588641e-17</td>\n",
              "      <td>6.846181e-16</td>\n",
              "    </tr>\n",
              "    <tr>\n",
              "      <th>std</th>\n",
              "      <td>9.795490e-02</td>\n",
              "      <td>9.627039e-02</td>\n",
              "      <td>2.228787e-01</td>\n",
              "      <td>6.931629e-02</td>\n",
              "      <td>1.915794e-01</td>\n",
              "    </tr>\n",
              "    <tr>\n",
              "      <th>min</th>\n",
              "      <td>-5.547394e-01</td>\n",
              "      <td>-2.643447e-01</td>\n",
              "      <td>-6.500764e-01</td>\n",
              "      <td>-1.350868e-01</td>\n",
              "      <td>-5.857586e-02</td>\n",
              "    </tr>\n",
              "    <tr>\n",
              "      <th>25%</th>\n",
              "      <td>-5.473943e-02</td>\n",
              "      <td>-4.559467e-02</td>\n",
              "      <td>-1.432403e-01</td>\n",
              "      <td>-4.927545e-02</td>\n",
              "      <td>-5.857586e-02</td>\n",
              "    </tr>\n",
              "    <tr>\n",
              "      <th>50%</th>\n",
              "      <td>-5.473943e-02</td>\n",
              "      <td>1.690533e-02</td>\n",
              "      <td>1.889574e-02</td>\n",
              "      <td>-1.282262e-02</td>\n",
              "      <td>-5.857586e-02</td>\n",
              "    </tr>\n",
              "    <tr>\n",
              "      <th>75%</th>\n",
              "      <td>2.859390e-02</td>\n",
              "      <td>4.815533e-02</td>\n",
              "      <td>1.897177e-01</td>\n",
              "      <td>3.547927e-02</td>\n",
              "      <td>-5.857586e-02</td>\n",
              "    </tr>\n",
              "    <tr>\n",
              "      <th>max</th>\n",
              "      <td>4.452606e-01</td>\n",
              "      <td>7.356553e-01</td>\n",
              "      <td>3.499236e-01</td>\n",
              "      <td>8.649132e-01</td>\n",
              "      <td>9.414241e-01</td>\n",
              "    </tr>\n",
              "  </tbody>\n",
              "</table>\n",
              "</div>"
            ],
            "text/plain": [
              "              grade     bathrooms           lat   sqft_living          view\n",
              "count  2.161300e+04  2.161300e+04  2.161300e+04  2.161300e+04  2.161300e+04\n",
              "mean  -4.636920e-16  2.201825e-15  6.088836e-14  2.588641e-17  6.846181e-16\n",
              "std    9.795490e-02  9.627039e-02  2.228787e-01  6.931629e-02  1.915794e-01\n",
              "min   -5.547394e-01 -2.643447e-01 -6.500764e-01 -1.350868e-01 -5.857586e-02\n",
              "25%   -5.473943e-02 -4.559467e-02 -1.432403e-01 -4.927545e-02 -5.857586e-02\n",
              "50%   -5.473943e-02  1.690533e-02  1.889574e-02 -1.282262e-02 -5.857586e-02\n",
              "75%    2.859390e-02  4.815533e-02  1.897177e-01  3.547927e-02 -5.857586e-02\n",
              "max    4.452606e-01  7.356553e-01  3.499236e-01  8.649132e-01  9.414241e-01"
            ]
          },
          "metadata": {
            "tags": []
          },
          "execution_count": 12
        }
      ]
    },
    {
      "cell_type": "code",
      "metadata": {
        "colab": {
          "base_uri": "https://localhost:8080/",
          "height": 1000
        },
        "id": "fE7Yu1Dii80C",
        "outputId": "381a7ccf-3510-404c-87c0-19c90da27846"
      },
      "source": [
        "# running the model\n",
        "lr = float(input(\"Enter the learning rate:\"))\n",
        "thetas = MLR(features.values.tolist(),labels.values.tolist(),len(labels),lr,1000)\n",
        "print(\"To predict\")\n",
        "grade= float(input(\"Enter the grade. \"))\n",
        "bathrooms= int(input(\"Enter the num of bathrooms. \"))\n",
        "lat= float(input(\"Enter the lat. \"))\n",
        "sqft_living= float(input(\"Enter the sqft_living. \"))\n",
        "view= int(input(\"Enter the view. \"))\n",
        "\n",
        "print(\"The price of the house = \"+str(hypothesis([1,grade,bathrooms,lat,sqft_living,view],thetas))+\"$\")"
      ],
      "execution_count": null,
      "outputs": [
        {
          "output_type": "stream",
          "text": [
            "Enter the learning rate:0.1\n",
            "In iteration: 0, The Mean Square error = 0.573830536234146\n",
            "In iteration: 1, The Mean Square error = 0.4794773056296446\n",
            "In iteration: 2, The Mean Square error = 0.4031179932719223\n",
            "In iteration: 3, The Mean Square error = 0.3413270742509024\n",
            "In iteration: 4, The Mean Square error = 0.29133054143373843\n",
            "In iteration: 5, The Mean Square error = 0.25088205028270727\n",
            "In iteration: 6, The Mean Square error = 0.21816260283815866\n",
            "In iteration: 7, The Mean Square error = 0.19169929775708472\n",
            "In iteration: 8, The Mean Square error = 0.17029952325552014\n",
            "In iteration: 9, The Mean Square error = 0.15299765826195083\n",
            "In iteration: 10, The Mean Square error = 0.1390119047345873\n",
            "In iteration: 11, The Mean Square error = 0.12770932578310598\n",
            "In iteration: 12, The Mean Square error = 0.11857753009752245\n",
            "In iteration: 13, The Mean Square error = 0.11120173953080358\n",
            "In iteration: 14, The Mean Square error = 0.10524621671650541\n",
            "In iteration: 15, The Mean Square error = 0.10043922402719277\n",
            "In iteration: 16, The Mean Square error = 0.09656084266009288\n",
            "In iteration: 17, The Mean Square error = 0.09343310819285995\n",
            "In iteration: 18, The Mean Square error = 0.09091202227050796\n",
            "In iteration: 19, The Mean Square error = 0.08888108376989838\n",
            "In iteration: 20, The Mean Square error = 0.08724605057125032\n",
            "In iteration: 21, The Mean Square error = 0.08593069796850765\n",
            "In iteration: 22, The Mean Square error = 0.0848733842196314\n",
            "In iteration: 23, The Mean Square error = 0.08402426975645232\n",
            "In iteration: 24, The Mean Square error = 0.083343065747348\n",
            "In iteration: 25, The Mean Square error = 0.08279721133543512\n",
            "In iteration: 26, The Mean Square error = 0.08236039801370194\n",
            "In iteration: 27, The Mean Square error = 0.08201137509982392\n",
            "In iteration: 28, The Mean Square error = 0.08173298282863432\n",
            "In iteration: 29, The Mean Square error = 0.0815113697491189\n",
            "In iteration: 30, The Mean Square error = 0.08133535934884357\n",
            "In iteration: 31, The Mean Square error = 0.08119593749933954\n",
            "In iteration: 32, The Mean Square error = 0.08108583771848844\n",
            "In iteration: 33, The Mean Square error = 0.08099920562152144\n",
            "In iteration: 34, The Mean Square error = 0.08093132747594858\n",
            "In iteration: 35, The Mean Square error = 0.08087841064570789\n",
            "In iteration: 36, The Mean Square error = 0.08083740603411883\n",
            "In iteration: 37, The Mean Square error = 0.08080586451754714\n",
            "In iteration: 38, The Mean Square error = 0.08078182088605763\n",
            "In iteration: 39, The Mean Square error = 0.08076370004179192\n",
            "In iteration: 40, The Mean Square error = 0.08075024120545324\n",
            "In iteration: 41, The Mean Square error = 0.08074043669078382\n",
            "In iteration: 42, The Mean Square error = 0.08073348246238835\n",
            "In iteration: 43, The Mean Square error = 0.08072873822302849\n",
            "In iteration: 44, The Mean Square error = 0.08072569520622289\n",
            "In iteration: 45, The Mean Square error = 0.0807239501979781\n",
            "In iteration: 46, The Mean Square error = 0.08072318459313108\n",
            "In iteration: 47, The Mean Square error = 0.080723147519852\n",
            "Converged with mean square error = 0.080723147519852\n",
            "with thetas= [0.00706965 1.05435244 1.16938862 0.94562204 1.07942691 1.05816175]\n"
          ],
          "name": "stdout"
        },
        {
          "output_type": "display_data",
          "data": {
            "image/png": "[encoded data removed]",
            "text/plain": [
              "<Figure size 432x288 with 1 Axes>"
            ]
          },
          "metadata": {
            "tags": [],
            "needs_background": "light"
          }
        },
        {
          "output_type": "stream",
          "text": [
            "To predict\n",
            "Enter the grade. 5\n",
            "Enter the num of bathrooms. 3\n",
            "Enter the lat. 67\n",
            "Enter the sqft_living. 180\n",
            "Enter the view. 2\n",
            "The price of the house = 268.5643590358882$\n"
          ],
          "name": "stdout"
        }
      ]
    }
  ]
}